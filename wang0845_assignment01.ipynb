{
 "cells": [
  {
   "cell_type": "markdown",
   "id": "31ddf5d4",
   "metadata": {},
   "source": [
    "# NET2008 - Fall 2022  - Assignment 1\n",
    "\n",
    "1. This assignment consists of 3 independent tasks.\n",
    "2. You have 2 weeks to finish the assignment\n",
    "3. The assignment is worth 6% of your final nark.\n",
    "4. You must submit independent work. \n",
    "5. Any use of third party work must be correctly identified with the relevant attribution.\n",
    "6. Enter your name in the cell below."
   ]
  },
  {
   "cell_type": "code",
   "execution_count": null,
   "id": "1b68666e",
   "metadata": {},
   "outputs": [],
   "source": [
    "#YOUR NAME HERE"
   ]
  },
  {
   "cell_type": "markdown",
   "id": "3eb5b439",
   "metadata": {},
   "source": [
    "## Task 1 - Fantasy Game Inventory\n",
    "\n",
    "### Problem Description\n",
    "\n",
    "You are creating a fantasy video game. The data structure to model the player’s inventory will be a **dictionary** where the keys are string values describing the item in the inventory and the value is an integer value detailing how many of that item the player has. For example, the dictionary value\n",
    "```{'rope': 1, 'torch': 6, 'gold coin': 42, 'dagger': 1, 'arrow': 12}```means the player has 1 rope, 6 torches, 42 gold coins, and so on.\n",
    "\n",
    "\n",
    "### Sub - Task 1\n",
    "\n",
    "* Write a function named ```displayInventory()``` that would take any possible “inventory” and display it like the following:\n",
    "```python\n",
    "Inventory:\n",
    "12 arrow\n",
    "42 gold coin\n",
    "1 rope\n",
    "6 torch\n",
    "1 dagger\n",
    "\n",
    "Total number of items: 62\n",
    "```\n"
   ]
  },
  {
   "cell_type": "code",
   "execution_count": 26,
   "id": "ae2480d2",
   "metadata": {},
   "outputs": [
    {
     "name": "stdout",
     "output_type": "stream",
     "text": [
      "Inventory:\n",
      "1 rope\n",
      "6 torch\n",
      "42 gold coin\n",
      "1 dagger\n",
      "12 arrow\n",
      "Total number of items: 62\n"
     ]
    }
   ],
   "source": [
    "# Sub-Task 1 Code:\n",
    "def displayInventory():\n",
    "    \n",
    "    inventory = {'rope': 1, 'torch': 6, 'gold coin': 42, 'dagger': 1, 'arrow': 12}\n",
    "    print(\"Inventory:\")\n",
    "    total = 0\n",
    "    \n",
    "    for a in inventory:\n",
    "        total = total + inventory[a]\n",
    "        print (inventory[a], a)\n",
    "    print(\"Total number of items:\", total)\n",
    "    \n",
    "displayInventory();"
   ]
  },
  {
   "cell_type": "markdown",
   "id": "4e0c89e0",
   "metadata": {},
   "source": [
    "Imagine that a vanquished dragon’s loot is represented as a list of strings like this:\n",
    "`dragonLoot = ['gold coin', 'dagger', 'gold coin', 'gold coin', 'ruby']`"
   ]
  },
  {
   "cell_type": "markdown",
   "id": "abed4fdd",
   "metadata": {},
   "source": [
    "### Sub - Task 2\n",
    "Write a function named `addToInventory(inventory, addedItems)`, where the `inventory` parameter is a dictionary representing the player’s inventory (like in the previous project) and the `addedItems` parameter is a list like `dragonLoot`. The `addToInventory()` function should return a dictionary that represents the updated inventory. Note that the `addedItems` list can contain multiples of the same item. Your code could look something like this:\n",
    "\n",
    "```python\n",
    "def addToInventory(inventory, addedItems):\n",
    "    # your code goes here\n",
    "\n",
    "inv = {'gold coin': 42, 'rope': 1}\n",
    "dragonLoot = ['gold coin', 'dagger', 'gold coin', 'gold coin', 'ruby']\n",
    "inv = addToInventory(inv, dragonLoot)\n",
    "displayInventory(inv)\n",
    "```"
   ]
  },
  {
   "cell_type": "markdown",
   "id": "e6b2a8d7",
   "metadata": {},
   "source": [
    "The previous program (with your `displayInventory()` function from the previous sub-task) would output the following:\n",
    "```python\n",
    "Inventory:\n",
    "45 gold coin\n",
    "1 rope\n",
    "1 ruby\n",
    "1 dagger\n",
    "\n",
    "Total number of items: 48\n",
    "```"
   ]
  },
  {
   "cell_type": "code",
   "execution_count": 8,
   "id": "82e3033f",
   "metadata": {},
   "outputs": [],
   "source": [
    "#Sub-Task 2 Code:\n",
    "def addToInventory(inventory, addedItems):\n",
    "    for i in range(len(addedItems)):\n",
    "        if addedItems[i] in inventory:\n",
    "            inventory[addedItems[i]] = inventory[addedItems[i]] + 1\n",
    "        else:\n",
    "            inventory.setdefault(addedItems[i],1)\n",
    "    return inventory"
   ]
  },
  {
   "cell_type": "markdown",
   "id": "e5668bed",
   "metadata": {},
   "source": [
    "---"
   ]
  },
  {
   "cell_type": "markdown",
   "id": "892ef2cd",
   "metadata": {},
   "source": [
    "## Task 2 - Routes\n",
    "\n",
    "## Problem Description\n",
    "The execution of **ip route** command produces this output:\n",
    "\n",
    "<br>0.0.0.0/1 via 10.8.0.1 dev tun0 \n",
    "<br>default via 192.168.2.254 dev enp6s0 proto static metric 100 \n",
    "<br>10.8.0.0/24 dev tun0 proto kernel scope link src 10.8.0.2 \n",
    "<br>128.0.0.0/1 via 10.8.0.1 dev tun1 \n",
    "<br>139.59.1.155 via 192.168.2.254 dev enp6s0 \n",
    "<br>169.254.0.0/16 dev virbr0 scope link metric 1000 linkdown \n",
    "<br>192.168.2.0/24 dev enp6s0 proto kernel scope link src 192.168.2.24 metric 100 \n",
    "<br>192.168.122.0/24 dev virbr0 proto kernel scope link src 192.168.122.1 linkdown\n",
    "<br>10.10.20.0/24 dev enp10s0 proto kernel scope link src 10.10.20.1 linkdown\n",
    "\n",
    "\n",
    "### Task 2 - Work To Do\n",
    "Each entry represents the ip route associated with each network interface. For example, in line 1, the route **0.0.0.0/1** is associated with interface **tun0**\n",
    "\n",
    "Write the Python code that displays the list of routes associayed with each interface.  \n",
    "\n",
    "**Example**\n",
    "<br>Routes per Interface:\n",
    "<br>tun0   : 0.0.0.0/1, 10.8.0.0/24\n",
    "<br>enp6s0 : 139.59.1.155, 192.168.2.0/24\n",
    "<br> ...\n",
    "\n"
   ]
  },
  {
   "cell_type": "code",
   "execution_count": 227,
   "id": "19d335fe",
   "metadata": {},
   "outputs": [
    {
     "name": "stdout",
     "output_type": "stream",
     "text": [
      "['0.0.0.0/1', 'via', '10.8.0.1', 'dev', 'tun0']\n"
     ]
    },
    {
     "ename": "ValueError",
     "evalue": "'dev' is not in list",
     "output_type": "error",
     "traceback": [
      "\u001b[1;31m---------------------------------------------------------------------------\u001b[0m",
      "\u001b[1;31mValueError\u001b[0m                                Traceback (most recent call last)",
      "Input \u001b[1;32mIn [227]\u001b[0m, in \u001b[0;36m<cell line: 22>\u001b[1;34m()\u001b[0m\n\u001b[0;32m     22\u001b[0m \u001b[38;5;28;01mfor\u001b[39;00m i \u001b[38;5;129;01min\u001b[39;00m nestedlist:\n\u001b[0;32m     23\u001b[0m     \u001b[38;5;28;01mif\u001b[39;00m \u001b[38;5;124m\"\u001b[39m\u001b[38;5;124mdev\u001b[39m\u001b[38;5;124m\"\u001b[39m \u001b[38;5;129;01min\u001b[39;00m [a \u001b[38;5;28;01mfor\u001b[39;00m b \u001b[38;5;129;01min\u001b[39;00m nestedlist \u001b[38;5;28;01mfor\u001b[39;00m b \u001b[38;5;129;01min\u001b[39;00m a]:\n\u001b[1;32m---> 24\u001b[0m         newlist[i][key] \u001b[38;5;241m=\u001b[39m nestedlist[\u001b[43mnestedlist\u001b[49m\u001b[38;5;241;43m.\u001b[39;49m\u001b[43mindex\u001b[49m\u001b[43m(\u001b[49m\u001b[38;5;124;43m\"\u001b[39;49m\u001b[38;5;124;43mdev\u001b[39;49m\u001b[38;5;124;43m\"\u001b[39;49m\u001b[43m)\u001b[49m\u001b[38;5;241m+\u001b[39m\u001b[38;5;241m1\u001b[39m]\n\u001b[0;32m     25\u001b[0m \u001b[38;5;28mprint\u001b[39m(newlist)\n",
      "\u001b[1;31mValueError\u001b[0m: 'dev' is not in list"
     ]
    }
   ],
   "source": [
    "#Task-2 Code Here:\n",
    "data = \"\"\"0.0.0.0/1 via 10.8.0.1 dev tun0\n",
    "        default via 192.168.2.254 dev enp6s0 proto static metric 100\n",
    "        10.8.0.0/24 dev tun0 proto kernel scope link src 10.8.0.2\n",
    "        128.0.0.0/1 via 10.8.0.1 dev tun1\n",
    "        139.59.1.155 via 192.168.2.254 dev enp6s0\n",
    "        169.254.0.0/16 dev virbr0 scope link metric 1000 linkdown\n",
    "        192.168.2.0/24 dev enp6s0 proto kernel scope link src 192.168.2.24 metric 100\n",
    "        192.168.122.0/24 dev virbr0 proto kernel scope link src 192.168.122.1 linkdown\n",
    "        10.10.20.0/24 dev enp10s0 proto kernel scope link src 10.10.20.1 linkdown\"\"\"\n",
    "datalist = []\n",
    "\n",
    "for i in data: \n",
    "    datalist = data.split(\"\\n        \")\n",
    "nestedlist = []\n",
    "for i in datalist:\n",
    "    temp = i.split(' ')\n",
    "    nestedlist.append((temp))\n",
    "print(nestedlist[0])\n",
    "\n",
    "newlist = []\n",
    "for i in nestedlist:\n",
    "    if \"dev\" in [a for b in nestedlist for b in a]:\n",
    "        newlist[i][key] = nestedlist[nestedlist.index(\"dev\")+1]\n",
    "print(newlist)"
   ]
  },
  {
   "cell_type": "markdown",
   "id": "1b992c2a",
   "metadata": {},
   "source": [
    "---"
   ]
  },
  {
   "cell_type": "markdown",
   "id": "c92bfab1",
   "metadata": {},
   "source": [
    "## Task 3 - CDSA Substances\n",
    "### Problem Description\n",
    "Controlled Drugs and Substances Act (CDSA) such as cocaine fentanyl, morphine, methamphetamine, and ephedrine are drugs that are regulated by Health Canada. Any prescption that contains these substances must be reported to the authorities by the pharmacist.\n",
    "\n",
    "A pharmacy tracks the prescriptions that contain these substances and generates a report periodically that it sends to the government. You are working at that pharmacy and you have a list of prescriptions that may contain these substances. Your job is to generate the report with the precriptions that contain these substances.\n",
    "\n",
    "The format of the raw data is a comma separated list of information organized as follows:\n",
    "customer's name, the prescription date, the drug identifier, if it contains a CDSA substance (Yes/No), the name of the substance\n",
    "Example of one entry:\n",
    "Oliver Nash, DIN-23459818, 2021-09-13, Yes, Opium\n",
    "The line above contains the substance 'Opium'\n",
    "\n",
    "Example:\n",
    "Oliver Nash, DIN-23459818, 2021-09-13, No\n",
    "The line above does not contain a CDSA substance.\n",
    "\n",
    "Here is the data:\n",
    "1. Oliver Nash, DIN-23459818, 2021-09-13, Yes, Opium \n",
    "2. Mary Evans, DIN-23454678, 2021-09-09, Yes, Hydrocone\n",
    "3. Michael Ye, DIN-23456678, 2021-09-12, No\n",
    "4. Nicole Smith, DIN-23445678, 2021-09-07, Yes, Etorphine\n",
    "5. Arun Das, DIN-23456987, 2021-09-06, Yes, Metopon\n",
    "6. Dmitry Pagalik, DIN-23465678, 2021-09-04, Yes, Morphine\n",
    "7. Sarah Mills, DIN-23458645, 2021-09-03, Yes, Ethylmorphine\n",
    "8. Tim Uppal, DIN-67543321, 2021-09-10, No\n",
    "9. Kerry Diotte, DIN-67548976, 2021-09-11, Yes, Apomorphine\n",
    "10. John Lyons, DIN-67465543, 2021-09-03, Yes, Nicocodine\n",
    "11. Steve Ma, DIN-89775678, 2021-09-02, Yes, Oxycodone\n",
    "12. Dan Mazier, DIN-67542721, 2021-09-10, Yes, Pethidine\n",
    "13. Luis Gonzalez, DIN-67548976, 2021-09-11, No\n",
    "14. Arshad Awan, DIN-67543331, 2021-09-06, No\n",
    "15. Kelsey Shein, DIN-67543321, 2021-09-10, Yes, Pethidine\n",
    "16. Mary Lee, DIN-67578876, 2021-09-01, Yes, Apomorphine\n",
    "17. Susan Brown, DIN-67548976, 2021-09-11, No\n",
    "18. Sabrina Zuniga, DIN-67883321, 2021-09-10, Yes, Pethidine\n",
    "19. Nathalie Clermont, DIN-67537976, 2021-09-11, Yes, Apomorphine\n",
    "20. Jagdeep Singh, DIN-23456787, 2021-09-13, No\n",
    "\n",
    "You are asked to generate a report of all the prescriptions with the regulated substances. The report should contain the customer's name, the drug, the date and the name of the controlled substance. If the drug does not contain the controlled substance, it should not be in the report. \n",
    "\n",
    "**1. The format of the report must be as follows**\n",
    " <br> Patient Name |  Drug ID       | Prescription Date  | Name of CDSA\n",
    " \n",
    "We also want to know the number of prescriptions with controlled substances and how many prescriptions have been delivered for each controlled substance.\n",
    "\n",
    " **2. An example for output  2**\n",
    " <br> Total Prescriptions with CDSA substances : 14\n",
    " <br> Apomorphine : 3\n",
    " <br> Etorphine : 1\n",
    " <br> ...\n",
    " \n",
    " ### Task 3 - Work to do\n",
    " \n",
    "\n",
    " 1. The first output should display the list with the date in ascending order : starting from the oldest date to the most recent date.\n",
    " 2. The second output should show the number of prescriptions for each substance. The output should be listed in the substance alphabetical order.\n",
    " 3. You need to format the output in such a way as all the data are nicely aligned. \n",
    " \n",
    "\n",
    "  \n",
    "\n",
    " \n",
    "\n"
   ]
  },
  {
   "cell_type": "code",
   "execution_count": 226,
   "id": "9ba53638",
   "metadata": {},
   "outputs": [
    {
     "name": "stdout",
     "output_type": "stream",
     "text": [
      "  Mary Lee           | DIN-67578876 | 2021-09-01| Yes       \n",
      "  Steve Ma           | DIN-89775678 | 2021-09-02| Yes       \n",
      "  Sarah Mills        | DIN-23458645 | 2021-09-03| Yes       \n",
      "  John Lyons         | DIN-67465543 | 2021-09-03| Yes       \n",
      "  Dmitry Pagalik     | DIN-23465678 | 2021-09-04| Yes       \n",
      "  Arun Das           | DIN-23456987 | 2021-09-06| Yes       \n",
      "  Arshad Awan        | DIN-67543331 | 2021-09-06| No        \n",
      "  Nicole Smith       | DIN-23445678 | 2021-09-07| Yes       \n",
      "  Mary Evans         | DIN-23454678 | 2021-09-09| Yes       \n",
      "  Tim Uppal          | DIN-67543321 | 2021-09-10| No        \n",
      "  Dan Mazier         | DIN-67542721 | 2021-09-10| Yes       \n",
      "  Kelsey Shein       | DIN-67543321 | 2021-09-10| Yes       \n",
      "  Sabrina Zuniga     | DIN-67883321 | 2021-09-10| Yes       \n",
      "  Kerry Diotte       | DIN-67548976 | 2021-09-11| Yes       \n",
      "  Luis Gonzalez      | DIN-67548976 | 2021-09-11| No        \n",
      "  Susan Brown        | DIN-67548976 | 2021-09-11| No        \n",
      "  Nathalie Clermont  | DIN-67537976 | 2021-09-11| Yes       \n",
      "  Michael Ye         | DIN-23456678 | 2021-09-12| No        \n",
      "  Oliver Nash        | DIN-23459818 | 2021-09-13| Yes       \n",
      "  Jagdeep Singh      | DIN-23456787 | 2021-09-13| No        \n",
      "\n",
      "\n",
      "Total Prescriptions with CDSA substances: 20\n",
      "Apomorphine    | 3    \n",
      "Ethylmorphine  | 1    \n",
      "Etorphine      | 1    \n",
      "Hydrocone      | 1    \n",
      "Metopon        | 1    \n",
      "Morphine       | 1    \n",
      "Nicocodine     | 1    \n",
      "No             | 6    \n",
      "Opium          | 1    \n",
      "Oxycodone      | 1    \n",
      "Pethidine      | 3    \n"
     ]
    }
   ],
   "source": [
    "#Task-3 Code here:\n",
    "\n",
    "from datetime import datetime\n",
    "\n",
    "data = \"\"\"  Oliver Nash, DIN-23459818, 2021-09-13, Yes, Opium\n",
    "        Mary Evans, DIN-23454678, 2021-09-09, Yes, Hydrocone\n",
    "        Michael Ye, DIN-23456678, 2021-09-12, No\n",
    "        Nicole Smith, DIN-23445678, 2021-09-07, Yes, Etorphine\n",
    "        Arun Das, DIN-23456987, 2021-09-06, Yes, Metopon\n",
    "        Dmitry Pagalik, DIN-23465678, 2021-09-04, Yes, Morphine\n",
    "        Sarah Mills, DIN-23458645, 2021-09-03, Yes, Ethylmorphine\n",
    "        Tim Uppal, DIN-67543321, 2021-09-10, No\n",
    "        Kerry Diotte, DIN-67548976, 2021-09-11, Yes, Apomorphine\n",
    "        John Lyons, DIN-67465543, 2021-09-03, Yes, Nicocodine\n",
    "        Steve Ma, DIN-89775678, 2021-09-02, Yes, Oxycodone\n",
    "        Dan Mazier, DIN-67542721, 2021-09-10, Yes, Pethidine\n",
    "        Luis Gonzalez, DIN-67548976, 2021-09-11, No\n",
    "        Arshad Awan, DIN-67543331, 2021-09-06, No\n",
    "        Kelsey Shein, DIN-67543321, 2021-09-10, Yes, Pethidine\n",
    "        Mary Lee, DIN-67578876, 2021-09-01, Yes, Apomorphine\n",
    "        Susan Brown, DIN-67548976, 2021-09-11, No\n",
    "        Sabrina Zuniga, DIN-67883321, 2021-09-10, Yes, Pethidine\n",
    "        Nathalie Clermont, DIN-67537976, 2021-09-11, Yes, Apomorphine\n",
    "        Jagdeep Singh, DIN-23456787, 2021-09-13, No\"\"\"\n",
    "\n",
    "datalist = []\n",
    "\n",
    "for i in data: \n",
    "    datalist = data.split(\"\\n      \")\n",
    "\n",
    "nestedlist = []\n",
    "for i in datalist:\n",
    "    temp = i.split(', ')\n",
    "    nestedlist.append((temp))\n",
    "\n",
    "for i in range(0, 20):\n",
    "    nestedlist.sort(key = lambda x: datetime.fromisoformat(x[2]))\n",
    "    \n",
    "for i in nestedlist:\n",
    "    print(\"{:<20} | {:<10} | {:<10}| {:<10}\".format(i[0],i[1],i[2],i[3]))\n",
    "\n",
    "    \n",
    "    \n",
    "print(\"\\n\")\n",
    "\n",
    "total = len(nestedlist)\n",
    "print('Total Prescriptions with CDSA substances:',total)\n",
    "\n",
    "name = [row[-1] for row in nestedlist]\n",
    "name.sort()\n",
    "count_dict = {}\n",
    "\n",
    "for i in name:\n",
    "    count_dict[i] = name.count(i)\n",
    "    \n",
    "for i in count_dict:\n",
    "    print(\"{:<15}| {:<5}\".format(i,count_dict[i]))"
   ]
  },
  {
   "cell_type": "markdown",
   "id": "972b7b87",
   "metadata": {},
   "source": [
    "---"
   ]
  },
  {
   "cell_type": "markdown",
   "id": "db92dfe8",
   "metadata": {},
   "source": [
    "## Resources\n",
    "\n",
    "To do this work, you may find these modules useful:\n",
    "<br> **datetime** to work with dates and times (https://docs.python.org/3.10/library/datetime.html#)\n"
   ]
  },
  {
   "cell_type": "markdown",
   "id": "a27d628d",
   "metadata": {},
   "source": [
    "### datetime\n",
    "Python has a module named **datetime** to work with dates and times.\n",
    "\n",
    "One of the classes defined in the datetime module is datetime class. \n",
    "\n",
    "You can consult https://www.programiz.com/python-programming/datetime for datetime usage"
   ]
  },
  {
   "cell_type": "markdown",
   "id": "251a4b2f",
   "metadata": {},
   "source": [
    "---"
   ]
  },
  {
   "cell_type": "markdown",
   "id": "012fb1b0",
   "metadata": {},
   "source": [
    "### Marking\n",
    "\n",
    "1. Task 1 : 30%\n",
    "2. Task 2 : 30%\n",
    "3. Task 3 : 40%"
   ]
  },
  {
   "cell_type": "markdown",
   "id": "51e072f9",
   "metadata": {},
   "source": [
    "***"
   ]
  }
 ],
 "metadata": {
  "kernelspec": {
   "display_name": "Python 3 (ipykernel)",
   "language": "python",
   "name": "python3"
  },
  "language_info": {
   "codemirror_mode": {
    "name": "ipython",
    "version": 3
   },
   "file_extension": ".py",
   "mimetype": "text/x-python",
   "name": "python",
   "nbconvert_exporter": "python",
   "pygments_lexer": "ipython3",
   "version": "3.9.12"
  }
 },
 "nbformat": 4,
 "nbformat_minor": 5
}
